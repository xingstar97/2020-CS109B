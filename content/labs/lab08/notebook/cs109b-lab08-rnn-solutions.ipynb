{
 "cells": [
  {
   "cell_type": "markdown",
   "metadata": {},
   "source": [
    "# <img style=\"float: left; padding-right: 10px; width: 45px\" src=\"https://raw.githubusercontent.com/Harvard-IACS/2018-CS109A/master/content/styles/iacs.png\"> CS-109B Advanced Data Science\n",
    "## Lab 8: Recurrent Neural Networks\n",
    "\n",
    "**Harvard University**<br>\n",
    "**Fall 2020**<br>\n",
    "**Instructors:** Mark Glickman, Pavlos Protopapas, and Chris Tanner<br>\n",
    "**Lab Instructors:** Chris Tanner and Eleni Angelaki Kaxiras<br>\n",
    "**Content:** Srivatsan Srinivasan, Pavlos Protopapas, Chris Tanner"
   ]
  },
  {
   "cell_type": "code",
   "execution_count": 1,
   "metadata": {},
   "outputs": [
    {
     "data": {
      "text/html": [
       "<style>\n",
       "blockquote { background: #AEDE94; }\n",
       "h1 { \n",
       "    padding-top: 25px;\n",
       "    padding-bottom: 25px;\n",
       "    text-align: left; \n",
       "    padding-left: 10px;\n",
       "    background-color: #DDDDDD; \n",
       "    color: black;\n",
       "}\n",
       "h2 { \n",
       "    padding-top: 10px;\n",
       "    padding-bottom: 10px;\n",
       "    text-align: left; \n",
       "    padding-left: 5px;\n",
       "    background-color: #EEEEEE; \n",
       "    color: black;\n",
       "}\n",
       "\n",
       "div.exercise {\n",
       "\tbackground-color: #ffcccc;\n",
       "\tborder-color: #E9967A; \t\n",
       "\tborder-left: 5px solid #800080; \n",
       "\tpadding: 0.5em;\n",
       "}\n",
       "div.discussion {\n",
       "\tbackground-color: #ccffcc;\n",
       "\tborder-color: #88E97A;\n",
       "\tborder-left: 5px solid #0A8000; \n",
       "\tpadding: 0.5em;\n",
       "}\n",
       "div.theme {\n",
       "\tbackground-color: #DDDDDD;\n",
       "\tborder-color: #E9967A; \t\n",
       "\tborder-left: 5px solid #800080; \n",
       "\tpadding: 0.5em;\n",
       "\tfont-size: 18pt;\n",
       "}\n",
       "div.gc { \n",
       "\tbackground-color: #AEDE94;\n",
       "\tborder-color: #E9967A; \t \n",
       "\tborder-left: 5px solid #800080; \n",
       "\tpadding: 0.5em;\n",
       "\tfont-size: 12pt;\n",
       "}\n",
       "p.q1 { \n",
       "    padding-top: 5px;\n",
       "    padding-bottom: 5px;\n",
       "    text-align: left; \n",
       "    padding-left: 5px;\n",
       "    background-color: #EEEEEE; \n",
       "    color: black;\n",
       "}\n",
       "header {\n",
       "   padding-top: 35px;\n",
       "    padding-bottom: 35px;\n",
       "    text-align: left; \n",
       "    padding-left: 10px;\n",
       "    background-color: #DDDDDD; \n",
       "    color: black;\n",
       "}\n",
       "</style>\n",
       "\n"
      ],
      "text/plain": [
       "<IPython.core.display.HTML object>"
      ]
     },
     "execution_count": 1,
     "metadata": {},
     "output_type": "execute_result"
    }
   ],
   "source": [
    "# RUN THIS CELL TO PROPERLY HIGHLIGHT THE EXERCISES\n",
    "import requests\n",
    "from IPython.core.display import HTML\n",
    "styles = requests.get(\"https://raw.githubusercontent.com/Harvard-IACS/2019-CS109B/master/content/styles/cs109.css\").text\n",
    "HTML(styles)"
   ]
  },
  {
   "cell_type": "markdown",
   "metadata": {},
   "source": [
    "## Learning Goals\n",
    "\n",
    "In this lab we will look at Recurrent Neural Networks (RNNs), LSTMs and their building blocks.\n",
    "\n",
    "By the end of this lab, you should:\n",
    "\n",
    "- know how to put together the building blocks used in RNNs and its variants (GRU, LSTM) in `keras` with an example.\n",
    "- have a good undertanding on how sequences -- any data that has some temporal semantics (e.g., time series, natural language, images etc.) -- fit into and benefit from a recurrent architecture\n",
    "- be familiar with preprocessing text and dynamic embeddings\n",
    "- be familiar with gradient issues on RNNs processing longer sentence lengths\n",
    "- understand different kinds of LSTM architectures, classifiers, sequence to sequence models and their far-reaching applications\n"
   ]
  },
  {
   "cell_type": "markdown",
   "metadata": {},
   "source": [
    "## 1. IMDb Review Classification: Feedforward, CNN, RNN, LSTM\n",
    "\n"
   ]
  },
  {
   "cell_type": "markdown",
   "metadata": {},
   "source": [
    "In this task, we are going to do sentiment classification on a movie review dataset. We are going to build a feedforward net, a convolutional neural net, a recurrent net and combine one or more of them to understand performance of each of them. A sentence can be thought of as a sequence of words that collectively represent meaning. Individual words impact the meaning. Thus, the context matters; words that occur earlier in the sentence influence the sentence's structure and meaning in the latter part of the sentence (e.g., Jose asked Anqi if she were going to the library today). Likewise, words that occur later in a sentence can affect the meaning of earlier words (e.g., Apple is an interesting company). As we have seen in lecture, if we wish to make use of a full sentence's context in both directions, then we should use a bi-directional RNN (e.g., Bi-LSTM). For the purpose of this tutorial, we are going to restrict ourselves to only uni-directional RNNs."
   ]
  },
  {
   "cell_type": "code",
   "execution_count": 1,
   "metadata": {},
   "outputs": [
    {
     "name": "stderr",
     "output_type": "stream",
     "text": [
      "2023-09-21 14:39:51.590167: I tensorflow/core/util/port.cc:110] oneDNN custom operations are on. You may see slightly different numerical results due to floating-point round-off errors from different computation orders. To turn them off, set the environment variable `TF_ENABLE_ONEDNN_OPTS=0`.\n",
      "2023-09-21 14:39:51.613692: I tensorflow/core/platform/cpu_feature_guard.cc:182] This TensorFlow binary is optimized to use available CPU instructions in performance-critical operations.\n",
      "To enable the following instructions: AVX2 AVX_VNNI FMA, in other operations, rebuild TensorFlow with the appropriate compiler flags.\n",
      "2023-09-21 14:39:51.997645: W tensorflow/compiler/tf2tensorrt/utils/py_utils.cc:38] TF-TRT Warning: Could not find TensorRT\n"
     ]
    }
   ],
   "source": [
    "import numpy\n",
    "from keras.datasets import imdb\n",
    "from keras.models import Sequential\n",
    "from keras.layers import Dense\n",
    "from keras.layers import LSTM, SimpleRNN\n",
    "# from keras.layers.embeddings import Embedding\n",
    "from keras.layers import Flatten\n",
    "from keras.preprocessing import sequence\n",
    "# from keras.layers.convolutional import Conv1D\n",
    "# from keras.layers.convolutional import MaxPooling1D\n",
    "from keras.layers import Embedding\n",
    "from keras.layers import Convolution1D\n",
    "from keras.layers import MaxPooling1D\n",
    "import numpy as np\n",
    "# fix random seed for reproducibility\n",
    "numpy.random.seed(1)"
   ]
  },
  {
   "cell_type": "code",
   "execution_count": 2,
   "metadata": {},
   "outputs": [],
   "source": [
    "# We want to have a finite vocabulary to make sure that our word matrices are not arbitrarily small\n",
    "vocabulary_size = 10000\n",
    "\n",
    "# We also want to have a finite length of reviews and not have to process really long sentences.\n",
    "max_review_length = 500"
   ]
  },
  {
   "cell_type": "markdown",
   "metadata": {},
   "source": [
    "Computers have no built-in knowledge of words or their meanings and cannot understand them in any rich way that humans do -- hence, the purpose of Natural Language Processing (NLP). As with any data science, computer science, machine learning task, the first crucial step is to clean (pre-process) your data so that you can soundly make use of it. Within NLP, this first step is called Tokenization and it concerns how to represent each token (a.k.a. word) of your corpus (i.e., dataset).\n",
    "\n",
    "#### TOKENIZATION\n",
    "\n",
    "A ``token`` refers to a single, atomic unit of meaning (i.e., a word). How should our computers represent each word? We could read in our corpus word by word and store each word as a String (data structure). However, Strings tend to use more computer memory than Integers and can become cumbersome. As long as we preserve the uniqueness of the tokens and are consistent, we are better off converting each distinct word to a distinct number (Integer). This is standard practice within NLP / computer science / data science, etc.\n",
    "As a simple example of tokenization, we can see a small example.\n",
    "\n",
    "If the five sentences below were our entire corpus, our conversion would look as follows:\n",
    "\n",
    "1. i have books - [1, 4, 7]\n",
    "2. interesting books are useful [10,2,9,8]\n",
    "3. i have computers [1,4,6]\n",
    "4. computers are interesting and useful [6,9,11,10,8]\n",
    "5. books and computers are both valuable. [2,10,2,9,13,12]\n",
    "6. Bye Bye [7,7]\n",
    "\n",
    "Create tokens for vocabulary based on frequency of occurrence. Hence, we assign the following tokens\n",
    "\n",
    "I-1, books-2, computers-3, have-4, are-5, computers-6,bye-7, useful-8, are-9, and-10,interesting-11, valuable-12, both-13\n",
    "\n",
    "Thankfully, our dataset is already represented in such a tokenized form.\n",
    "\n",
    "**NOTE:** Often times, depending on your NLP task, it is useful to also perform other pre-processing, cleaning steps, such as:\n",
    "- treating each punctuation mark as a token (e.g., , . ! ? are each separate tokens)\n",
    "- lower-casing all words (so that a given word isn't treated differently just because it starts a sentence or not)\n",
    "- separating each sentence with a unique symbol (e.g., <S> and </S>)\n",
    "- removing words that are incredibly common (e.g., function words, (in)definite articles). These are referred to as 'stopwords'). For language modelling, we DO NOT remove stopwords. A sentence's meaning needs to include all of the original words."
   ]
  },
  {
   "cell_type": "markdown",
   "metadata": {},
   "source": [
    "#### Load data"
   ]
  },
  {
   "cell_type": "code",
   "execution_count": 3,
   "metadata": {},
   "outputs": [
    {
     "name": "stdout",
     "output_type": "stream",
     "text": [
      "Downloading data from https://storage.googleapis.com/tensorflow/tf-keras-datasets/imdb.npz\n",
      "17464789/17464789 [==============================] - 1s 0us/step\n",
      "Number of reviews 25000\n",
      "Length of first and fifth review before padding 218 147\n",
      "First review [1, 14, 22, 16, 43, 530, 973, 1622, 1385, 65, 458, 4468, 66, 3941, 4, 173, 36, 256, 5, 25, 100, 43, 838, 112, 50, 670, 2, 9, 35, 480, 284, 5, 150, 4, 172, 112, 167, 2, 336, 385, 39, 4, 172, 4536, 1111, 17, 546, 38, 13, 447, 4, 192, 50, 16, 6, 147, 2025, 19, 14, 22, 4, 1920, 4613, 469, 4, 22, 71, 87, 12, 16, 43, 530, 38, 76, 15, 13, 1247, 4, 22, 17, 515, 17, 12, 16, 626, 18, 2, 5, 62, 386, 12, 8, 316, 8, 106, 5, 4, 2223, 5244, 16, 480, 66, 3785, 33, 4, 130, 12, 16, 38, 619, 5, 25, 124, 51, 36, 135, 48, 25, 1415, 33, 6, 22, 12, 215, 28, 77, 52, 5, 14, 407, 16, 82, 2, 8, 4, 107, 117, 5952, 15, 256, 4, 2, 7, 3766, 5, 723, 36, 71, 43, 530, 476, 26, 400, 317, 46, 7, 4, 2, 1029, 13, 104, 88, 4, 381, 15, 297, 98, 32, 2071, 56, 26, 141, 6, 194, 7486, 18, 4, 226, 22, 21, 134, 476, 26, 480, 5, 144, 30, 5535, 18, 51, 36, 28, 224, 92, 25, 104, 4, 226, 65, 16, 38, 1334, 88, 12, 16, 283, 5, 16, 4472, 113, 103, 32, 15, 16, 5345, 19, 178, 32]\n",
      "First label 1\n"
     ]
    }
   ],
   "source": [
    "(X_train, y_train), (X_test, y_test) = imdb.load_data(num_words=vocabulary_size)\n",
    "print('Number of reviews', len(X_train))\n",
    "print('Length of first and fifth review before padding', len(X_train[0]) ,len(X_train[4]))\n",
    "print('First review', X_train[0])\n",
    "print('First label', y_train[0])"
   ]
  },
  {
   "cell_type": "markdown",
   "metadata": {},
   "source": [
    "#### Preprocess data\n",
    "\n",
    "If we were training our RNN one sentence at a time, it would be okay to have sentences of varying lengths. However, as with any neural network, it can be sometimes be advantageous to train inputs in batches. When doing so with RNNs, our input tensors need to be of the same length/dimensions. Thus, let's pad our sentences."
   ]
  },
  {
   "cell_type": "code",
   "execution_count": 4,
   "metadata": {},
   "outputs": [
    {
     "name": "stdout",
     "output_type": "stream",
     "text": [
      "Length of first and fifth review after padding 500 500\n"
     ]
    }
   ],
   "source": [
    "X_train = sequence.pad_sequences(X_train, maxlen=max_review_length)\n",
    "X_test = sequence.pad_sequences(X_test, maxlen=max_review_length)\n",
    "print('Length of first and fifth review after padding', len(X_train[0]) ,len(X_train[4]))"
   ]
  },
  {
   "cell_type": "markdown",
   "metadata": {},
   "source": [
    "### MODEL 1A : FEED-FORWARD NETWORKS WITHOUT EMBEDDINGS \n",
    "\n",
    "Let us build a single-layer feed-forward net with a hidden layer of 250 nodes. Each input would be a 500-dim vector of tokens since we padded all our sequences to size 500.\n",
    "\n",
    "<br>\n",
    "<div class=\"exercise\"  style=\"background-color:#b3e6ff\">\n",
    "<b>EXERCISE</b>: Calculate the number of parameters involved in this network and implement a feedforward net to do classification without looking at cells below.\n",
    "</div>"
   ]
  },
  {
   "cell_type": "code",
   "execution_count": 5,
   "metadata": {
    "scrolled": true
   },
   "outputs": [
    {
     "name": "stderr",
     "output_type": "stream",
     "text": [
      "2023-09-21 14:40:03.295035: I tensorflow/compiler/xla/stream_executor/cuda/cuda_gpu_executor.cc:995] successful NUMA node read from SysFS had negative value (-1), but there must be at least one NUMA node, so returning NUMA node zero. See more at https://github.com/torvalds/linux/blob/v6.0/Documentation/ABI/testing/sysfs-bus-pci#L344-L355\n",
      "2023-09-21 14:40:03.385805: I tensorflow/compiler/xla/stream_executor/cuda/cuda_gpu_executor.cc:995] successful NUMA node read from SysFS had negative value (-1), but there must be at least one NUMA node, so returning NUMA node zero. See more at https://github.com/torvalds/linux/blob/v6.0/Documentation/ABI/testing/sysfs-bus-pci#L344-L355\n",
      "2023-09-21 14:40:03.386086: I tensorflow/compiler/xla/stream_executor/cuda/cuda_gpu_executor.cc:995] successful NUMA node read from SysFS had negative value (-1), but there must be at least one NUMA node, so returning NUMA node zero. See more at https://github.com/torvalds/linux/blob/v6.0/Documentation/ABI/testing/sysfs-bus-pci#L344-L355\n",
      "2023-09-21 14:40:03.388311: I tensorflow/compiler/xla/stream_executor/cuda/cuda_gpu_executor.cc:995] successful NUMA node read from SysFS had negative value (-1), but there must be at least one NUMA node, so returning NUMA node zero. See more at https://github.com/torvalds/linux/blob/v6.0/Documentation/ABI/testing/sysfs-bus-pci#L344-L355\n",
      "2023-09-21 14:40:03.388514: I tensorflow/compiler/xla/stream_executor/cuda/cuda_gpu_executor.cc:995] successful NUMA node read from SysFS had negative value (-1), but there must be at least one NUMA node, so returning NUMA node zero. See more at https://github.com/torvalds/linux/blob/v6.0/Documentation/ABI/testing/sysfs-bus-pci#L344-L355\n",
      "2023-09-21 14:40:03.388639: I tensorflow/compiler/xla/stream_executor/cuda/cuda_gpu_executor.cc:995] successful NUMA node read from SysFS had negative value (-1), but there must be at least one NUMA node, so returning NUMA node zero. See more at https://github.com/torvalds/linux/blob/v6.0/Documentation/ABI/testing/sysfs-bus-pci#L344-L355\n",
      "2023-09-21 14:40:04.801364: I tensorflow/compiler/xla/stream_executor/cuda/cuda_gpu_executor.cc:995] successful NUMA node read from SysFS had negative value (-1), but there must be at least one NUMA node, so returning NUMA node zero. See more at https://github.com/torvalds/linux/blob/v6.0/Documentation/ABI/testing/sysfs-bus-pci#L344-L355\n",
      "2023-09-21 14:40:04.801468: I tensorflow/compiler/xla/stream_executor/cuda/cuda_gpu_executor.cc:995] successful NUMA node read from SysFS had negative value (-1), but there must be at least one NUMA node, so returning NUMA node zero. See more at https://github.com/torvalds/linux/blob/v6.0/Documentation/ABI/testing/sysfs-bus-pci#L344-L355\n",
      "2023-09-21 14:40:04.801519: I tensorflow/compiler/xla/stream_executor/cuda/cuda_gpu_executor.cc:995] successful NUMA node read from SysFS had negative value (-1), but there must be at least one NUMA node, so returning NUMA node zero. See more at https://github.com/torvalds/linux/blob/v6.0/Documentation/ABI/testing/sysfs-bus-pci#L344-L355\n",
      "2023-09-21 14:40:04.801583: I tensorflow/core/common_runtime/gpu/gpu_device.cc:1639] Created device /job:localhost/replica:0/task:0/device:GPU:0 with 9238 MB memory:  -> device: 0, name: NVIDIA GeForce RTX 3080 Ti, pci bus id: 0000:01:00.0, compute capability: 8.6\n"
     ]
    },
    {
     "name": "stdout",
     "output_type": "stream",
     "text": [
      "Model: \"sequential\"\n",
      "_________________________________________________________________\n",
      " Layer (type)                Output Shape              Param #   \n",
      "=================================================================\n",
      " dense (Dense)               (None, 250)               125250    \n",
      "                                                                 \n",
      " dense_1 (Dense)             (None, 1)                 251       \n",
      "                                                                 \n",
      "=================================================================\n",
      "Total params: 125501 (490.24 KB)\n",
      "Trainable params: 125501 (490.24 KB)\n",
      "Non-trainable params: 0 (0.00 Byte)\n",
      "_________________________________________________________________\n",
      "None\n",
      "Epoch 1/10\n"
     ]
    },
    {
     "name": "stderr",
     "output_type": "stream",
     "text": [
      "2023-09-21 14:40:07.566698: I tensorflow/compiler/xla/stream_executor/cuda/cuda_blas.cc:606] TensorFloat-32 will be used for the matrix multiplication. This will only be logged once.\n",
      "2023-09-21 14:40:07.583894: I tensorflow/compiler/xla/service/service.cc:168] XLA service 0x7fe9751c6150 initialized for platform CUDA (this does not guarantee that XLA will be used). Devices:\n",
      "2023-09-21 14:40:07.583907: I tensorflow/compiler/xla/service/service.cc:176]   StreamExecutor device (0): NVIDIA GeForce RTX 3080 Ti, Compute Capability 8.6\n",
      "2023-09-21 14:40:07.607856: I tensorflow/compiler/mlir/tensorflow/utils/dump_mlir_util.cc:255] disabling MLIR crash reproducer, set env var `MLIR_CRASH_REPRODUCER_DIRECTORY` to enable.\n",
      "2023-09-21 14:40:07.870688: I tensorflow/compiler/xla/stream_executor/cuda/cuda_dnn.cc:432] Loaded cuDNN version 8600\n",
      "2023-09-21 14:40:07.930689: I tensorflow/tsl/platform/default/subprocess.cc:304] Start cannot spawn child process: No such file or directory\n",
      "2023-09-21 14:40:07.999245: I ./tensorflow/compiler/jit/device_compiler.h:186] Compiled cluster using XLA!  This line is logged at most once for the lifetime of the process.\n"
     ]
    },
    {
     "name": "stdout",
     "output_type": "stream",
     "text": [
      "196/196 - 3s - loss: 177.3750 - accuracy: 0.5039 - val_loss: 90.6364 - val_accuracy: 0.5073 - 3s/epoch - 15ms/step\n",
      "Epoch 2/10\n",
      "196/196 - 1s - loss: 45.8141 - accuracy: 0.5786 - val_loss: 44.9000 - val_accuracy: 0.5039 - 1s/epoch - 7ms/step\n",
      "Epoch 3/10\n",
      "196/196 - 1s - loss: 15.7880 - accuracy: 0.6554 - val_loss: 26.4167 - val_accuracy: 0.5067 - 951ms/epoch - 5ms/step\n",
      "Epoch 4/10\n",
      "196/196 - 1s - loss: 6.4456 - accuracy: 0.7210 - val_loss: 17.6518 - val_accuracy: 0.5088 - 1s/epoch - 6ms/step\n",
      "Epoch 5/10\n",
      "196/196 - 1s - loss: 3.1993 - accuracy: 0.7581 - val_loss: 12.1551 - val_accuracy: 0.5104 - 1s/epoch - 6ms/step\n",
      "Epoch 6/10\n",
      "196/196 - 1s - loss: 1.9322 - accuracy: 0.7785 - val_loss: 9.6879 - val_accuracy: 0.5045 - 1s/epoch - 6ms/step\n",
      "Epoch 7/10\n",
      "196/196 - 1s - loss: 1.3275 - accuracy: 0.7994 - val_loss: 7.5593 - val_accuracy: 0.5114 - 1s/epoch - 7ms/step\n",
      "Epoch 8/10\n",
      "196/196 - 1s - loss: 0.9882 - accuracy: 0.8155 - val_loss: 7.0871 - val_accuracy: 0.5091 - 1s/epoch - 7ms/step\n",
      "Epoch 9/10\n",
      "196/196 - 1s - loss: 0.8899 - accuracy: 0.8237 - val_loss: 6.7064 - val_accuracy: 0.5098 - 988ms/epoch - 5ms/step\n",
      "Epoch 10/10\n",
      "196/196 - 1s - loss: 0.7921 - accuracy: 0.8317 - val_loss: 6.8316 - val_accuracy: 0.5101 - 1s/epoch - 5ms/step\n",
      "Accuracy: 51.00%\n"
     ]
    }
   ],
   "source": [
    "model = Sequential()\n",
    "\n",
    "model.add(Dense(250, activation='relu',input_dim=max_review_length))\n",
    "model.add(Dense(1, activation='sigmoid'))\n",
    "model.compile(loss='binary_crossentropy', optimizer='adam', metrics=['accuracy'])\n",
    "print(model.summary())\n",
    "\n",
    "model.fit(X_train, y_train, validation_data=(X_test, y_test), epochs=10, batch_size=128, verbose=2)\n",
    "# Final evaluation of the model\n",
    "scores = model.evaluate(X_test, y_test, verbose=0)\n",
    "print(\"Accuracy: %.2f%%\" % (scores[1]*100))"
   ]
  },
  {
   "cell_type": "markdown",
   "metadata": {},
   "source": [
    "<div class=\"discussion\"  style=\"background-color:#F5E4C3\">\n",
    "    <b>Discussion:</b> Why was the performance bad? What was wrong with tokenization?\n",
    "</div>\n",
    "\n",
    "### MODEL 1B : FEED-FORWARD NETWORKS WITH EMBEDDINGS\n",
    "\n",
    "#### What is an embedding layer ? \n",
    "\n",
    "An embedding is a \"distributed representation\" (e.g., vector) of a particular atomic item (e.g., word token, object, etc). When representing items by embeddings:\n",
    "- each distinct item should be represented by its own unique embedding\n",
    "- the semantic similarity between items should correspond to the similarity between their respective embeddings (i.e., words that are more similar to one another should have embeddings that are more similar to each other).\n",
    "\n",
    "There are essentially an infinite number of ways to create such embeddings, and since these representations have such a great influence on the performance of our models, there has been an incredible amount of research dedicated to this very aspect. If you are interested in learning more, start with the astromonically impactful papers of [word2vec](https://papers.nips.cc/paper/5021-distributed-representations-of-words-and-phrases-and-their-compositionality.pdf) and [GloVe](https://www.aclweb.org/anthology/D14-1162.pdf).\n",
    "\n",
    "In general, though, one can view the embedding process as a linear projection from one vector space to another (e.g., a vector space of unique words being mapped to a world of fixed-length, dense vectors filled with continuous-valued numbers. For NLP, we usually use embeddings to project the one-hot encodings of words (i.e., a vector that is the length of the entire vocabulary, and it is filled with all zeros except for a single value of 1 that corresponds to the particular word) on to a lower-dimensional continuous space (e.g., vectors of size 100) so that the input surface is dense and possibly smooth. Thus, one can view this embedding layer process as just a transformation from $\\mathbb{R}^{inp}$ to $\\mathbb{R}^{emb}$"
   ]
  },
  {
   "cell_type": "code",
   "execution_count": 6,
   "metadata": {},
   "outputs": [],
   "source": [
    "embedding_dim = 100"
   ]
  },
  {
   "cell_type": "markdown",
   "metadata": {},
   "source": [
    "When you create an Embedding layer, TensorFlow initializes an embedding matrix with random values. The shape of this matrix is (input_dim, output_dim), where input_dim is the size of the input vocabulary, and output_dim is the dimension of the embedding vectors. Each row in this matrix corresponds to an index in the input vocabulary.\n",
    "\n",
    "Input Transformation: When you pass integer sequences to the embedding layer, it essentially looks up the corresponding rows in the embedding matrix. If the input is a sequence of integer indices [3, 7, 2], the embedding layer will retrieve the rows with indices 3, 7, and 2 from the embedding matrix. These rows are the dense embeddings for the input tokens."
   ]
  },
  {
   "cell_type": "code",
   "execution_count": 7,
   "metadata": {},
   "outputs": [
    {
     "name": "stdout",
     "output_type": "stream",
     "text": [
      "Model: \"sequential_1\"\n",
      "_________________________________________________________________\n",
      " Layer (type)                Output Shape              Param #   \n",
      "=================================================================\n",
      " embedding (Embedding)       (None, 500, 100)          1000000   \n",
      "                                                                 \n",
      " flatten (Flatten)           (None, 50000)             0         \n",
      "                                                                 \n",
      " dense_2 (Dense)             (None, 250)               12500250  \n",
      "                                                                 \n",
      " dense_3 (Dense)             (None, 1)                 251       \n",
      "                                                                 \n",
      "=================================================================\n",
      "Total params: 13500501 (51.50 MB)\n",
      "Trainable params: 13500501 (51.50 MB)\n",
      "Non-trainable params: 0 (0.00 Byte)\n",
      "_________________________________________________________________\n",
      "None\n"
     ]
    }
   ],
   "source": [
    "model = Sequential()\n",
    "\n",
    "# inputs will be converted from batch_size * sentence_length to batch_size*sentence_length*embedding _dim\n",
    "model.add(Embedding(vocabulary_size, embedding_dim, input_length=max_review_length))\n",
    "model.add(Flatten())\n",
    "model.add(Dense(250, activation='relu'))\n",
    "model.add(Dense(1, activation='sigmoid'))\n",
    "model.compile(loss='binary_crossentropy', optimizer='adam', metrics=['accuracy'])\n",
    "print(model.summary())"
   ]
  },
  {
   "cell_type": "code",
   "execution_count": 10,
   "metadata": {},
   "outputs": [
    {
     "name": "stdout",
     "output_type": "stream",
     "text": [
      "Epoch 1/2\n",
      "196/196 - 8s - loss: 0.0136 - accuracy: 0.9979 - val_loss: 0.4066 - val_accuracy: 0.8696 - 8s/epoch - 39ms/step\n",
      "Epoch 2/2\n",
      "196/196 - 6s - loss: 0.0014 - accuracy: 1.0000 - val_loss: 0.4620 - val_accuracy: 0.8716 - 6s/epoch - 30ms/step\n",
      "Accuracy: 87.16%\n"
     ]
    }
   ],
   "source": [
    "# fit the model\n",
    "model.fit(X_train, y_train, validation_data=(X_test, y_test), epochs=2, batch_size=128, verbose=2)\n",
    "\n",
    "# evaluate the model on the test set\n",
    "scores = model.evaluate(X_test, y_test, verbose=0)\n",
    "print(\"Accuracy: %.2f%%\" % (scores[1]*100))"
   ]
  },
  {
   "cell_type": "markdown",
   "metadata": {},
   "source": [
    "### MODEL 2 : CONVOLUTIONAL NEURAL NETWORKS (CNN)\n",
    "Text can be thought of as 1-dimensional sequence (a single, long vector) and we can apply 1D Convolutions over a set of word embeddings. Let us walk through convolutions on text data with [this blog](http://debajyotidatta.github.io/nlp/deep/learning/word-embeddings/2016/11/27/Understanding-Convolutions-In-Text/). If you want to learn more, read this [published and well-cited paper](https://www.aclweb.org/anthology/I17-1026.pdf) from my friend, Byron Wallace.\n",
    "\n",
    "Fit a 1D convolution with 200 filters, kernel size 3, followed by a feed-forward layer of 250 nodes, and ReLU and Sigmoid activations as appropriate."
   ]
  },
  {
   "cell_type": "code",
   "execution_count": 11,
   "metadata": {},
   "outputs": [
    {
     "name": "stdout",
     "output_type": "stream",
     "text": [
      "Model: \"sequential_2\"\n",
      "_________________________________________________________________\n",
      " Layer (type)                Output Shape              Param #   \n",
      "=================================================================\n",
      " embedding_1 (Embedding)     (None, 500, 100)          1000000   \n",
      "                                                                 \n",
      " conv1d (Conv1D)             (None, 500, 200)          60200     \n",
      "                                                                 \n",
      " max_pooling1d (MaxPooling1  (None, 250, 200)          0         \n",
      " D)                                                              \n",
      "                                                                 \n",
      " flatten_1 (Flatten)         (None, 50000)             0         \n",
      "                                                                 \n",
      " dense_4 (Dense)             (None, 250)               12500250  \n",
      "                                                                 \n",
      " dense_5 (Dense)             (None, 1)                 251       \n",
      "                                                                 \n",
      "=================================================================\n",
      "Total params: 13560701 (51.73 MB)\n",
      "Trainable params: 13560701 (51.73 MB)\n",
      "Non-trainable params: 0 (0.00 Byte)\n",
      "_________________________________________________________________\n",
      "None\n",
      "Epoch 1/2\n"
     ]
    },
    {
     "name": "stderr",
     "output_type": "stream",
     "text": [
      "2023-09-21 14:42:34.537747: I tensorflow/tsl/platform/default/subprocess.cc:304] Start cannot spawn child process: No such file or directory\n"
     ]
    },
    {
     "name": "stdout",
     "output_type": "stream",
     "text": [
      "196/196 [==============================] - 16s 66ms/step - loss: 0.4951 - accuracy: 0.7290\n",
      "Epoch 2/2\n",
      "196/196 [==============================] - 10s 53ms/step - loss: 0.1877 - accuracy: 0.9277\n",
      "Accuracy: 87.80%\n"
     ]
    }
   ],
   "source": [
    "# %load sol2.py\n",
    "# create the CNN\n",
    "model = Sequential()\n",
    "model.add(Embedding(vocabulary_size, embedding_dim, input_length=max_review_length))\n",
    "model.add(Convolution1D(filters=200, kernel_size=3, padding='same', activation='relu'))\n",
    "model.add(MaxPooling1D(pool_size=2))\n",
    "model.add(Flatten())\n",
    "model.add(Dense(250, activation='relu'))\n",
    "model.add(Dense(1, activation='sigmoid'))\n",
    "model.compile(loss='binary_crossentropy', optimizer='adam', metrics=['accuracy'])\n",
    "print(model.summary())\n",
    "\n",
    "# train the CNN\n",
    "model.fit(X_train, y_train, epochs=2, batch_size=128)\n",
    "\n",
    "# evalute the CNN\n",
    "scores = model.evaluate(X_test, y_test, verbose=0)\n",
    "print(\"Accuracy: %.2f%%\" % (scores[1]*100))\n"
   ]
  },
  {
   "cell_type": "markdown",
   "metadata": {},
   "source": [
    "### MODEL 3 : Simple RNN\n",
    "\n",
    "Two great blogs that are helpful for understanding the workings of a RNN and LSTM are\n",
    "\n",
    "1. http://karpathy.github.io/2015/05/21/rnn-effectiveness/\n",
    "2. http://colah.github.io/posts/2015-08-Understanding-LSTMs/\n",
    "\n",
    "At a high-level, an RNN is similar to a feed-forward neural network (FFNN) in that there is an input layer, a hidden layer, and an output layer. The input layer is fully connected to the hidden layer, and the hidden layer is fully connected to the output layer. However, the crux of what makes it a **recurrent** neural network is that the hidden layer for a given time _t_ is not only based on the input layer at time _t_ but also the hidden layer from time _t-1_.\n",
    "\n",
    "Mathematically, a simpleRNN can be defined by the following recurrence relation.\n",
    "\n",
    "<center>$h_t = \\sigma(W([h_{t-1},x_{t}])+b)$\n",
    "    \n",
    "If we extend this recurrence relation to the length of sequences we have in hand, our RNN architecture can be viewed as follows (this is also referred to as 'unrolling' the network):\n",
    "\n",
    "<img src=\"files/fig/LSTM_classification.jpg\" width=\"400\">"
   ]
  },
  {
   "cell_type": "code",
   "execution_count": 12,
   "metadata": {},
   "outputs": [
    {
     "name": "stdout",
     "output_type": "stream",
     "text": [
      "Model: \"sequential_3\"\n",
      "_________________________________________________________________\n",
      " Layer (type)                Output Shape              Param #   \n",
      "=================================================================\n",
      " embedding_2 (Embedding)     (None, 500, 100)          1000000   \n",
      "                                                                 \n",
      " simple_rnn (SimpleRNN)      (None, 100)               20100     \n",
      "                                                                 \n",
      " dense_6 (Dense)             (None, 1)                 101       \n",
      "                                                                 \n",
      "=================================================================\n",
      "Total params: 1020201 (3.89 MB)\n",
      "Trainable params: 1020201 (3.89 MB)\n",
      "Non-trainable params: 0 (0.00 Byte)\n",
      "_________________________________________________________________\n",
      "None\n",
      "Epoch 1/20\n",
      "1563/1563 [==============================] - 165s 105ms/step - loss: 0.6101 - accuracy: 0.6525\n",
      "Epoch 2/20\n",
      "1563/1563 [==============================] - 125s 80ms/step - loss: 0.4694 - accuracy: 0.7768\n",
      "Epoch 3/20\n",
      "1563/1563 [==============================] - 120s 77ms/step - loss: 0.4839 - accuracy: 0.7654\n",
      "Epoch 4/20\n",
      "1563/1563 [==============================] - 117s 75ms/step - loss: 0.5033 - accuracy: 0.7513\n",
      "Epoch 5/20\n",
      "1563/1563 [==============================] - 115s 73ms/step - loss: 0.5464 - accuracy: 0.7129\n",
      "Epoch 6/20\n",
      "1563/1563 [==============================] - 117s 75ms/step - loss: 0.5130 - accuracy: 0.7408\n",
      "Epoch 7/20\n",
      "1563/1563 [==============================] - 117s 75ms/step - loss: 0.4724 - accuracy: 0.7691\n",
      "Epoch 8/20\n",
      "1563/1563 [==============================] - 116s 74ms/step - loss: 0.4709 - accuracy: 0.7716\n",
      "Epoch 9/20\n",
      "1563/1563 [==============================] - 116s 74ms/step - loss: 0.4894 - accuracy: 0.7573\n",
      "Epoch 10/20\n",
      "1563/1563 [==============================] - 119s 76ms/step - loss: 0.4967 - accuracy: 0.7437\n",
      "Epoch 11/20\n",
      "1563/1563 [==============================] - 118s 75ms/step - loss: 0.4380 - accuracy: 0.7919\n",
      "Epoch 12/20\n",
      "1563/1563 [==============================] - 118s 76ms/step - loss: 0.4526 - accuracy: 0.7824\n",
      "Epoch 13/20\n",
      "1563/1563 [==============================] - 119s 76ms/step - loss: 0.3922 - accuracy: 0.8208\n",
      "Epoch 14/20\n",
      "1563/1563 [==============================] - 115s 74ms/step - loss: 0.4250 - accuracy: 0.7967\n",
      "Epoch 15/20\n",
      "1563/1563 [==============================] - 118s 76ms/step - loss: 0.4365 - accuracy: 0.7844\n",
      "Epoch 16/20\n",
      "1563/1563 [==============================] - 118s 75ms/step - loss: 0.3741 - accuracy: 0.8288\n",
      "Epoch 17/20\n",
      "1563/1563 [==============================] - 118s 76ms/step - loss: 0.3348 - accuracy: 0.8533\n",
      "Epoch 18/20\n",
      "1563/1563 [==============================] - 118s 75ms/step - loss: 0.3346 - accuracy: 0.8589\n",
      "Epoch 19/20\n",
      "1563/1563 [==============================] - 116s 74ms/step - loss: 0.3353 - accuracy: 0.8544\n",
      "Epoch 20/20\n",
      "1563/1563 [==============================] - 118s 76ms/step - loss: 0.3440 - accuracy: 0.8406\n",
      "Accuracy: 71.32%\n"
     ]
    }
   ],
   "source": [
    "# %load sol3.py\n",
    "model = Sequential()\n",
    "model.add(Embedding(vocabulary_size, embedding_dim, input_length=max_review_length))\n",
    "model.add(SimpleRNN(100))\n",
    "\n",
    "model.add(Dense(1, activation='sigmoid'))\n",
    "model.compile(loss='binary_crossentropy', optimizer='adam', metrics=['accuracy'])\n",
    "print(model.summary())\n",
    "\n",
    "model.fit(X_train, y_train, epochs=20, batch_size=64)\n",
    "# Final evaluation of the model\n",
    "scores = model.evaluate(X_test, y_test, verbose=0)\n",
    "print(\"Accuracy: %.2f%%\" % (scores[1]*100))\n"
   ]
  },
  {
   "cell_type": "markdown",
   "metadata": {},
   "source": [
    "#### RNNs and vanishing/exploding gradients\n",
    "\n",
    "Let us use sigmoid activations as example. Derivative of a sigmoid can be written as \n",
    "<center> $\\sigma'(x) = \\sigma(x) \\cdot \\sigma(1-x)$. </center>\n",
    "\n",
    "<img src = \"files/fig/vanishing_gradients.png\">\n",
    "<br>\n",
    "\n",
    "Remember, an RNN is a \"really deep\" feed-forward-esque network (when unrolled in time). Hence, backpropagation happens from $h_t$ all the way to $h_1$. Also realize that sigmoid gradients are multiplicatively dependent on the value of sigmoid. Hence, if the non-activated output of any layer $h_l$ is < 0, then $\\sigma$ tends to 0, effectively \"vanishing\" the gradient. Any layer that the current layer backprops to $H_{1:L-1}$ does not learn anything useful out of the gradients.\n",
    "\n",
    "#### LSTMs and GRU\n",
    "LSTM and GRU are two sophisticated implementations of RNNs that have gates (one could say that their success hinges on using gates). A gate emits probability between 0 and 1. For instance, LSTM is built on these state updates:\n",
    "\n",
    "$L$ is a linear transformation $L(x) = W*x + b.$\n",
    "\n",
    "$f_t = \\sigma(L([h_{t-1},x_t))$\n",
    "\n",
    "$i_t = \\sigma(L([h_{t-1},x_t))$\n",
    "\n",
    "$o_t = \\sigma(L([h_{t-1},x_t))$\n",
    "\n",
    "$\\hat{C}_t = \\tanh(L([h_{t-1},x_t))$\n",
    "\n",
    "$C_t = f_t * C_{t-1}+i_t*\\hat{C}_t$  (Using the forget gate, the neural network can learn to control how much information it has to retain or forget)\n",
    "\n",
    "$h_t = o_t * \\tanh(c_t)$\n",
    "\n"
   ]
  },
  {
   "cell_type": "markdown",
   "metadata": {},
   "source": [
    "### MODEL 4 : LSTM\n",
    "\n",
    "Now, let's use an LSTM model to do classification! To make it a fair comparison to the SimpleRNN, let's start with the same architecture hyper-parameters (e.g., number of hidden nodes, epochs, and batch size). Then, experiment with increasing the number of nodes, stacking multiple layers, applying dropouts etc. Check the number of parameters that this model entails."
   ]
  },
  {
   "cell_type": "code",
   "execution_count": 13,
   "metadata": {},
   "outputs": [
    {
     "name": "stdout",
     "output_type": "stream",
     "text": [
      "Model: \"sequential_4\"\n",
      "_________________________________________________________________\n",
      " Layer (type)                Output Shape              Param #   \n",
      "=================================================================\n",
      " embedding_3 (Embedding)     (None, 500, 100)          1000000   \n",
      "                                                                 \n",
      " lstm (LSTM)                 (None, 100)               80400     \n",
      "                                                                 \n",
      " dense_7 (Dense)             (None, 1)                 101       \n",
      "                                                                 \n",
      "=================================================================\n",
      "Total params: 1080501 (4.12 MB)\n",
      "Trainable params: 1080501 (4.12 MB)\n",
      "Non-trainable params: 0 (0.00 Byte)\n",
      "_________________________________________________________________\n",
      "None\n",
      "Epoch 1/3\n",
      "391/391 [==============================] - 38s 92ms/step - loss: 0.4244 - accuracy: 0.8017\n",
      "Epoch 2/3\n",
      "391/391 [==============================] - 21s 53ms/step - loss: 0.3684 - accuracy: 0.8363\n",
      "Epoch 3/3\n",
      "391/391 [==============================] - 15s 38ms/step - loss: 0.3319 - accuracy: 0.8543\n",
      "Accuracy: 80.94%\n"
     ]
    }
   ],
   "source": [
    "# %load sol4.py\n",
    "model = Sequential()\n",
    "model.add(Embedding(vocabulary_size, embedding_dim, input_length=max_review_length))\n",
    "model.add(LSTM(100))\n",
    "model.add(Dense(1, activation='sigmoid'))\n",
    "model.compile(loss='binary_crossentropy', optimizer='adam', metrics=['accuracy'])\n",
    "print(model.summary())\n",
    "\n",
    "model.fit(X_train, y_train, epochs=3, batch_size=64)\n",
    "\n",
    "# evaluation of the LSTM's performance\n",
    "scores = model.evaluate(X_test, y_test, verbose=0)\n",
    "print(\"Accuracy: %.2f%%\" % (scores[1]*100))\n"
   ]
  },
  {
   "cell_type": "markdown",
   "metadata": {},
   "source": [
    "### MODEL 5 : CNN + LSTM \n",
    "\n",
    "CNNs are good at learning spatial features, and sentences can be thought of as 1-D spatial vectors (dimensionality is determined by the number of words in the sentence). We apply an LSTM over the features learned by the CNN (after a maxpooling layer). This leverages the power of CNNs and LSTMs combined! We expect the CNN to be able to pick out invariant features across the 1-D spatial structure (i.e., sentence) that characterize good and bad sentiment. This learned spatial features may then be learned as sequences by an LSTM layer, and the final classification can be made via a feed-forward connection to a single node."
   ]
  },
  {
   "cell_type": "code",
   "execution_count": 15,
   "metadata": {},
   "outputs": [
    {
     "name": "stdout",
     "output_type": "stream",
     "text": [
      "Model: \"sequential_6\"\n",
      "_________________________________________________________________\n",
      " Layer (type)                Output Shape              Param #   \n",
      "=================================================================\n",
      " embedding_5 (Embedding)     (None, 500, 100)          1000000   \n",
      "                                                                 \n",
      " conv1d_1 (Conv1D)           (None, 500, 32)           9632      \n",
      "                                                                 \n",
      " max_pooling1d_1 (MaxPoolin  (None, 250, 32)           0         \n",
      " g1D)                                                            \n",
      "                                                                 \n",
      " lstm_1 (LSTM)               (None, 100)               53200     \n",
      "                                                                 \n",
      " dense_8 (Dense)             (None, 1)                 101       \n",
      "                                                                 \n",
      "=================================================================\n",
      "Total params: 1062933 (4.05 MB)\n",
      "Trainable params: 1062933 (4.05 MB)\n",
      "Non-trainable params: 0 (0.00 Byte)\n",
      "_________________________________________________________________\n",
      "None\n",
      "Epoch 1/3\n",
      "391/391 [==============================] - 27s 65ms/step - loss: 0.3890 - accuracy: 0.8106\n",
      "Epoch 2/3\n",
      "391/391 [==============================] - 16s 40ms/step - loss: 0.2130 - accuracy: 0.9196\n",
      "Epoch 3/3\n",
      "391/391 [==============================] - 10s 26ms/step - loss: 0.1483 - accuracy: 0.9478\n",
      "Accuracy: 87.88%\n"
     ]
    }
   ],
   "source": [
    "model = Sequential()\n",
    "model.add(Embedding(vocabulary_size, embedding_dim, input_length=max_review_length))\n",
    "model.add(Convolution1D(filters=32, kernel_size=3, padding='same', activation='relu'))\n",
    "model.add(MaxPooling1D(pool_size=2))\n",
    "model.add(LSTM(100))\n",
    "model.add(Dense(1, activation='sigmoid'))\n",
    "model.compile(loss='binary_crossentropy', optimizer='adam', metrics=['accuracy'])\n",
    "print(model.summary())\n",
    "\n",
    "model.fit(X_train, y_train, epochs=3, batch_size=64)\n",
    "# Final evaluation of the model\n",
    "scores = model.evaluate(X_test, y_test, verbose=0)\n",
    "print(\"Accuracy: %.2f%%\" % (scores[1]*100))"
   ]
  },
  {
   "cell_type": "markdown",
   "metadata": {},
   "source": [
    "### CONCLUSION\n",
    "\n",
    "We saw the power of sequence models and how they are useful in text classification. They give a solid performance, low memory footprint (thanks to shared parameters) and are able to understand and leverage the temporally connected information contained in the inputs. There is still an open debate about the performance vs memory benefits of CNNs vs RNNs in the research community.\n",
    "\n",
    "As a side-note and bit of history: how amazing is it that we can construct these neural networks, train them, and evaluate them in just a few lines of code?! Imagine if we didn't have deep learning libraries like Keras and Tensorflow; we'd have to write backpropagation and gradient descent by hand. Our last network could easily require thousands of lines of code and many hours of debugging. This is what many people did just 8 years ago, since deep learning wasn't common and the community hadn't yet written nicely packaged libraries. Many libraries have come and gone, but nowadays most people use either Tensorflow/Keras (by Google) or PyTorch (by Facebook). I expect them to remain as great libraries for the foreseeable future, so if you're interested in deep learning, it's worth the investment to learn one, or both, of them well."
   ]
  },
  {
   "cell_type": "markdown",
   "metadata": {},
   "source": [
    "## 2. 231+432 = 665.... It's not ? Let's ask our LSTM\n",
    "\n",
    "In this exercise, we are going to teach addition to our model. Given two numbers (<999), the model outputs their sum (<9999). The input is provided as a string '231+432' and the model will provide its output as ' 663' (Here the empty space is the padding character). We are not going to use any external dataset and are going to construct our own dataset for this exercise.\n",
    "\n",
    "The exercise we attempt to do effectively \"translates\" a sequence of characters '231+432' to another sequence of characters ' 663' and hence, this class of models are called sequence-to-sequence models (aka seq2seq). Such architectures have profound applications in several real-life tasks such as machine translation, summarization, image captioning etc.\n",
    "\n",
    "To be clear, sequence-to-sequence (aka seq2seq) models take as input a sequence of length N and return a sequence of length M, where N and M may or may not differ, and every single observation/input may be of different values, too. For example, machine translation concerns converting text from one natural language to another (e.g., translating English to French). Google Translate is an example, and their system is a seq2seq model. The input (e.g., an English sentence) can be of any length, and the output (e.g., a French sentence) may be of any length.\n",
    "\n",
    "**Background knowledge:** The earliest and most simple seq2seq model works by having one RNN for the input, just like we've always done, and we refer to it as being an \"encoder.\" The final hidden state of the encoder RNN is fed as input to another RNN that we refer to as the \"decoder.\" The job of the decoder is to generate each token, one word at a time. This may seem really limiting, as it relies on the encoder encapsulating the entire input sequence with just 1 hidden layer. It seems unrealistic that we could encode an entire meaning of a sentence with just one hidden layer. Yet, results even in this simplistic manner can be quite impressive. In fact, these early results were compelling enough that these models immediately replaced the decades of earlier machine translation work."
   ]
  },
  {
   "cell_type": "code",
   "execution_count": 1,
   "metadata": {},
   "outputs": [
    {
     "name": "stderr",
     "output_type": "stream",
     "text": [
      "2023-09-21 20:40:41.429050: I tensorflow/core/util/port.cc:110] oneDNN custom operations are on. You may see slightly different numerical results due to floating-point round-off errors from different computation orders. To turn them off, set the environment variable `TF_ENABLE_ONEDNN_OPTS=0`.\n",
      "2023-09-21 20:40:41.453282: I tensorflow/core/platform/cpu_feature_guard.cc:182] This TensorFlow binary is optimized to use available CPU instructions in performance-critical operations.\n",
      "To enable the following instructions: AVX2 AVX_VNNI FMA, in other operations, rebuild TensorFlow with the appropriate compiler flags.\n",
      "2023-09-21 20:40:41.886665: W tensorflow/compiler/tf2tensorrt/utils/py_utils.cc:38] TF-TRT Warning: Could not find TensorRT\n"
     ]
    }
   ],
   "source": [
    "from __future__ import print_function\n",
    "from keras.models import Sequential\n",
    "from keras import layers\n",
    "from keras.layers import Dense, RepeatVector, TimeDistributed\n",
    "import numpy as np\n",
    "from six.moves import range"
   ]
  },
  {
   "cell_type": "markdown",
   "metadata": {},
   "source": [
    "#### The less interesting data generation and preprocessing"
   ]
  },
  {
   "cell_type": "code",
   "execution_count": 2,
   "metadata": {},
   "outputs": [],
   "source": [
    "class CharacterTable(object):\n",
    "    # In Python 2, the object argument was often used when defining classes to indicate that this class is a new-style class. \n",
    "    # In Python 3 and later, this argument is optional, so you can define classes without specifying object.\n",
    "    def __init__(self, chars):        \n",
    "        self.chars = sorted(set(chars))\n",
    "        self.char_indices = dict((c, i) for i, c in enumerate(self.chars))\n",
    "        self.indices_char = dict((i, c) for i, c in enumerate(self.chars))\n",
    "\n",
    "    # converts a String of characters into a one-hot embedding/vector\n",
    "    def encode(self, C, num_rows):        \n",
    "        x = np.zeros((num_rows, len(self.chars)))\n",
    "        for i, c in enumerate(C):\n",
    "            x[i, self.char_indices[c]] = 1\n",
    "        return x\n",
    "    \n",
    "    # converts a one-hot embedding/vector into a String of characters\n",
    "    def decode(self, x, calc_argmax=True):        \n",
    "        if calc_argmax:\n",
    "            x = x.argmax(axis=-1)\n",
    "        return ''.join(self.indices_char[x] for x in x)\n"
   ]
  },
  {
   "cell_type": "code",
   "execution_count": 3,
   "metadata": {},
   "outputs": [],
   "source": [
    "TRAINING_SIZE = 50000\n",
    "DIGITS = 3\n",
    "MAXOUTPUTLEN = DIGITS + 1\n",
    "MAXLEN = DIGITS + 1 + DIGITS\n",
    "\n",
    "chars = '0123456789+ '\n",
    "ctable = CharacterTable(chars)"
   ]
  },
  {
   "cell_type": "code",
   "execution_count": 4,
   "metadata": {},
   "outputs": [],
   "source": [
    "def return_random_digit():\n",
    "  return np.random.choice(list('0123456789'))  \n",
    "\n",
    "# generate a new number of length `DIGITS`\n",
    "def generate_number():\n",
    "  num_digits = np.random.randint(1, DIGITS + 1)  \n",
    "  return int(''.join( return_random_digit()\n",
    "                      for i in range(num_digits)))\n",
    "\n",
    "# generate `TRAINING_SIZE` # of pairs of random numbers\n",
    "def data_generate(num_examples):\n",
    "  questions = []\n",
    "  answers = []\n",
    "  seen = set()\n",
    "  print('Generating data...')\n",
    "  while len(questions) < TRAINING_SIZE:      \n",
    "      a, b = generate_number(), generate_number()\n",
    "        \n",
    "      # don't allow duplicates; this is good practice for training,\n",
    "      # as we will minimize memorizing seen examples\n",
    "      key = tuple(sorted((a, b)))\n",
    "      if key in seen:\n",
    "          continue\n",
    "      seen.add(key)\n",
    "    \n",
    "      # pad the data with spaces so that the length is always MAXLEN.\n",
    "      q = '{}+{}'.format(a, b)\n",
    "      query = q + ' ' * (MAXLEN - len(q))\n",
    "      ans = str(a + b)\n",
    "    \n",
    "      # answers can be of maximum size DIGITS + 1.\n",
    "      ans += ' ' * (MAXOUTPUTLEN - len(ans))\n",
    "      questions.append(query)\n",
    "      answers.append(ans)\n",
    "  print('Total addition questions:', len(questions))\n",
    "  return questions, answers\n",
    "\n",
    "def encode_examples(questions, answers):\n",
    "  x = np.zeros((len(questions), MAXLEN, len(chars)), dtype=np.bool_)\n",
    "  y = np.zeros((len(questions), DIGITS + 1, len(chars)), dtype=np.bool_)\n",
    "  for i, sentence in enumerate(questions):\n",
    "      x[i] = ctable.encode(sentence, MAXLEN)\n",
    "  for i, sentence in enumerate(answers):\n",
    "      y[i] = ctable.encode(sentence, DIGITS + 1)\n",
    "\n",
    "  indices = np.arange(len(y))\n",
    "  np.random.shuffle(indices)\n",
    "  return x[indices],y[indices]"
   ]
  },
  {
   "cell_type": "code",
   "execution_count": 5,
   "metadata": {},
   "outputs": [
    {
     "name": "stdout",
     "output_type": "stream",
     "text": [
      "Generating data...\n",
      "Total addition questions: 50000\n",
      "Training Data shape:\n",
      "X :  (45000, 7, 12)\n",
      "Y :  (45000, 4, 12)\n",
      "Sample Question(in encoded form) :  [[False False False False False False False  True False False False False]\n",
      " [False False False False False False False False False False  True False]\n",
      " [False False False False False False False False False False  True False]\n",
      " [False  True False False False False False False False False False False]\n",
      " [False False False  True False False False False False False False False]\n",
      " [False False False False False False False False False  True False False]\n",
      " [False False False False False  True False False False False False False]] [[False False False False False False False False False  True False False]\n",
      " [False False False False False False False False  True False False False]\n",
      " [False False False  True False False False False False False False False]\n",
      " [ True False False False False False False False False False False False]]\n",
      "Sample Question(in decoded form) :  588+173 Sample Output :  761 \n"
     ]
    }
   ],
   "source": [
    "q,a = data_generate(TRAINING_SIZE)\n",
    "x,y = encode_examples(q,a)\n",
    "\n",
    "# divides our data into training and validation\n",
    "split_at = len(x) - len(x) // 10\n",
    "x_train, x_val, y_train, y_val = x[:split_at], x[split_at:],y[:split_at],y[split_at:]\n",
    "\n",
    "print('Training Data shape:')\n",
    "print('X : ', x_train.shape)\n",
    "print('Y : ', y_train.shape)\n",
    "\n",
    "print('Sample Question(in encoded form) : ', x_train[0], y_train[0])\n",
    "print('Sample Question(in decoded form) : ', ctable.decode(x_train[0]),'Sample Output : ', ctable.decode(y_train[0]))"
   ]
  },
  {
   "cell_type": "markdown",
   "metadata": {},
   "source": [
    "#### Let's learn two wrapper functions in Keras - TimeDistributed and RepeatVector with some dummy examples."
   ]
  },
  {
   "cell_type": "markdown",
   "metadata": {},
   "source": [
    "**TimeDistributed** is a wrapper function call that applies an input operation on all the timesteps of an input data. For instance, if I have a feed-forward network which converts a 10-dim vector to a 5-dim vector, then wrapping this TimeDistributed layer on that feed-forward operation would convert a batch_size  \\* sentence_len \\* vector_len(=10) to batch_size  \\* sentence_len \\*  output_len(=5)"
   ]
  },
  {
   "cell_type": "code",
   "execution_count": 6,
   "metadata": {},
   "outputs": [
    {
     "name": "stderr",
     "output_type": "stream",
     "text": [
      "2023-09-21 20:40:49.935467: I tensorflow/compiler/xla/stream_executor/cuda/cuda_gpu_executor.cc:995] successful NUMA node read from SysFS had negative value (-1), but there must be at least one NUMA node, so returning NUMA node zero. See more at https://github.com/torvalds/linux/blob/v6.0/Documentation/ABI/testing/sysfs-bus-pci#L344-L355\n",
      "2023-09-21 20:40:49.953511: I tensorflow/compiler/xla/stream_executor/cuda/cuda_gpu_executor.cc:995] successful NUMA node read from SysFS had negative value (-1), but there must be at least one NUMA node, so returning NUMA node zero. See more at https://github.com/torvalds/linux/blob/v6.0/Documentation/ABI/testing/sysfs-bus-pci#L344-L355\n",
      "2023-09-21 20:40:49.953867: I tensorflow/compiler/xla/stream_executor/cuda/cuda_gpu_executor.cc:995] successful NUMA node read from SysFS had negative value (-1), but there must be at least one NUMA node, so returning NUMA node zero. See more at https://github.com/torvalds/linux/blob/v6.0/Documentation/ABI/testing/sysfs-bus-pci#L344-L355\n",
      "2023-09-21 20:40:49.954843: I tensorflow/compiler/xla/stream_executor/cuda/cuda_gpu_executor.cc:995] successful NUMA node read from SysFS had negative value (-1), but there must be at least one NUMA node, so returning NUMA node zero. See more at https://github.com/torvalds/linux/blob/v6.0/Documentation/ABI/testing/sysfs-bus-pci#L344-L355\n",
      "2023-09-21 20:40:49.954921: I tensorflow/compiler/xla/stream_executor/cuda/cuda_gpu_executor.cc:995] successful NUMA node read from SysFS had negative value (-1), but there must be at least one NUMA node, so returning NUMA node zero. See more at https://github.com/torvalds/linux/blob/v6.0/Documentation/ABI/testing/sysfs-bus-pci#L344-L355\n",
      "2023-09-21 20:40:49.954967: I tensorflow/compiler/xla/stream_executor/cuda/cuda_gpu_executor.cc:995] successful NUMA node read from SysFS had negative value (-1), but there must be at least one NUMA node, so returning NUMA node zero. See more at https://github.com/torvalds/linux/blob/v6.0/Documentation/ABI/testing/sysfs-bus-pci#L344-L355\n",
      "2023-09-21 20:40:50.302417: I tensorflow/compiler/xla/stream_executor/cuda/cuda_gpu_executor.cc:995] successful NUMA node read from SysFS had negative value (-1), but there must be at least one NUMA node, so returning NUMA node zero. See more at https://github.com/torvalds/linux/blob/v6.0/Documentation/ABI/testing/sysfs-bus-pci#L344-L355\n",
      "2023-09-21 20:40:50.302519: I tensorflow/compiler/xla/stream_executor/cuda/cuda_gpu_executor.cc:995] successful NUMA node read from SysFS had negative value (-1), but there must be at least one NUMA node, so returning NUMA node zero. See more at https://github.com/torvalds/linux/blob/v6.0/Documentation/ABI/testing/sysfs-bus-pci#L344-L355\n",
      "2023-09-21 20:40:50.302566: I tensorflow/compiler/xla/stream_executor/cuda/cuda_gpu_executor.cc:995] successful NUMA node read from SysFS had negative value (-1), but there must be at least one NUMA node, so returning NUMA node zero. See more at https://github.com/torvalds/linux/blob/v6.0/Documentation/ABI/testing/sysfs-bus-pci#L344-L355\n",
      "2023-09-21 20:40:50.302612: I tensorflow/core/common_runtime/gpu/gpu_device.cc:1639] Created device /job:localhost/replica:0/task:0/device:GPU:0 with 9017 MB memory:  -> device: 0, name: NVIDIA GeForce RTX 3080 Ti, pci bus id: 0000:01:00.0, compute capability: 8.6\n"
     ]
    },
    {
     "name": "stdout",
     "output_type": "stream",
     "text": [
      "Shape of input :  (1, 3, 5)\n",
      "1/1 [==============================] - 1s 575ms/step\n",
      "Shape of output :  (1, 3, 8)\n"
     ]
    },
    {
     "name": "stderr",
     "output_type": "stream",
     "text": [
      "2023-09-21 20:40:51.069736: I tensorflow/compiler/xla/stream_executor/cuda/cuda_blas.cc:606] TensorFloat-32 will be used for the matrix multiplication. This will only be logged once.\n"
     ]
    }
   ],
   "source": [
    "model = Sequential()\n",
    "#Inputs to it will be batch_size*time_steps*input_vector_dim(to Dense)\n",
    "# Output will be batch_size*time_steps* output_vector_dim\n",
    "# Here, Dense() converts a 5-dim input vector to a 8-dim vector.\n",
    "model.add(TimeDistributed(Dense(8), input_shape=(3, 5)))\n",
    "input_array = np.random.randint(10, size=(1,3,5))\n",
    "print(\"Shape of input : \", input_array.shape)\n",
    "\n",
    "model.compile('rmsprop', 'mse')\n",
    "output_array = model.predict(input_array)\n",
    "print(\"Shape of output : \", output_array.shape)"
   ]
  },
  {
   "cell_type": "markdown",
   "metadata": {},
   "source": [
    "**RepeatVector** repeats the vector a specified number of times. Dimension changes from batch_size * number of elements to batch_size* number of repetitions * number of elements."
   ]
  },
  {
   "cell_type": "code",
   "execution_count": 7,
   "metadata": {
    "collapsed": true,
    "jupyter": {
     "outputs_hidden": true
    }
   },
   "outputs": [
    {
     "name": "stdout",
     "output_type": "stream",
     "text": [
      "(None, 6)\n",
      "(None, 3, 6)\n",
      "Shape of input :  (1, 10)\n",
      "1/1 [==============================] - 0s 20ms/step\n",
      "Shape of output :  (1, 3, 6)\n",
      "Input :  [538 688 666 152 593  47 514 640 343 146]\n",
      "Output :  [[  698.6417    214.78064  -460.49487  -473.46393 -1334.4592   -334.55194]\n",
      " [  698.6417    214.78064  -460.49487  -473.46393 -1334.4592   -334.55194]\n",
      " [  698.6417    214.78064  -460.49487  -473.46393 -1334.4592   -334.55194]]\n"
     ]
    }
   ],
   "source": [
    "model = Sequential()\n",
    "# converts from 1*10 to 1*6\n",
    "model.add(Dense(6, input_dim=10))\n",
    "print(model.output_shape)\n",
    "\n",
    "# converts from 1*6 to 1*3*6\n",
    "model.add(RepeatVector(3))\n",
    "print(model.output_shape) \n",
    "\n",
    "input_array = np.random.randint(1000, size=(1, 10))\n",
    "print(\"Shape of input : \", input_array.shape)\n",
    "\n",
    "model.compile('rmsprop', 'mse')\n",
    "output_array = model.predict(input_array)\n",
    "\n",
    "print(\"Shape of output : \", output_array.shape)\n",
    "# note: `None` is the batch dimension\n",
    "print('Input : ', input_array[0])\n",
    "print('Output : ', output_array[0])"
   ]
  },
  {
   "cell_type": "markdown",
   "metadata": {},
   "source": [
    "### MODEL ARCHITECTURE\n",
    "\n",
    "<img src=\"files/fig/LSTM_addition.jpg\" width=\"400\">"
   ]
  },
  {
   "cell_type": "markdown",
   "metadata": {},
   "source": [
    "**Note:** Whenever you are initializing a LSTM in Keras, by the default the option `return_sequences = False`. This means that at the end of the step the next component will only get to see the final hidden layer's values. On the other hand, if you set `return_sequences = True`, the LSTM component will return the hidden layer at each time step. It means that the next component should be able to consume inputs in that form. \n",
    "\n",
    "Think how this statement is relevant in terms of this model architecture and the TimeDistributed module we just learned.\n",
    "\n",
    "Build an encoder and decoder both single layer 128 nodes and an appropriate dense layer as needed by the model."
   ]
  },
  {
   "cell_type": "code",
   "execution_count": 8,
   "metadata": {},
   "outputs": [
    {
     "name": "stdout",
     "output_type": "stream",
     "text": [
      "Build model...\n",
      "Model: \"sequential_2\"\n",
      "_________________________________________________________________\n",
      " Layer (type)                Output Shape              Param #   \n",
      "=================================================================\n",
      " lstm (LSTM)                 (None, 128)               72192     \n",
      "                                                                 \n",
      " repeat_vector_1 (RepeatVec  (None, 4, 128)            0         \n",
      " tor)                                                            \n",
      "                                                                 \n",
      " lstm_1 (LSTM)               (None, 4, 128)            131584    \n",
      "                                                                 \n",
      " time_distributed_1 (TimeDi  (None, 4, 12)             1548      \n",
      " stributed)                                                      \n",
      "                                                                 \n",
      "=================================================================\n",
      "Total params: 205324 (802.05 KB)\n",
      "Trainable params: 205324 (802.05 KB)\n",
      "Non-trainable params: 0 (0.00 Byte)\n",
      "_________________________________________________________________\n"
     ]
    },
    {
     "data": {
      "image/png": "[encoded data removed]",
      "text/plain": [
       "<IPython.core.display.Image object>"
      ]
     },
     "execution_count": 8,
     "metadata": {},
     "output_type": "execute_result"
    }
   ],
   "source": [
    "from tensorflow.keras.utils import plot_model\n",
    "\n",
    "# Hyperaparams\n",
    "RNN = layers.LSTM\n",
    "HIDDEN_SIZE = 128\n",
    "BATCH_SIZE = 128\n",
    "LAYERS = 1\n",
    "\n",
    "print('Build model...')\n",
    "model = Sequential()\n",
    "\n",
    "#ENCODING\n",
    "model.add(RNN(HIDDEN_SIZE, input_shape=(MAXLEN, len(chars))))\n",
    "model.add(RepeatVector(MAXOUTPUTLEN))\n",
    "# 4 outputs, each output will see the encoder hidden layers (the same layer)\n",
    "# 4 outputs are like the sequence inputs for the decoder\n",
    "\n",
    "#DECODING\n",
    "for _ in range(LAYERS):\n",
    "    # return hidden layer at each time step\n",
    "    model.add(RNN(HIDDEN_SIZE, return_sequences=True)) \n",
    "\n",
    "model.add(TimeDistributed(layers.Dense(len(chars), activation='softmax')))\n",
    "model.compile(loss='categorical_crossentropy',\n",
    "              optimizer='adam',\n",
    "              metrics=['accuracy'])\n",
    "model.summary()\n",
    "\n",
    "plot_model(model, to_file='generator_plot.png', show_shapes=True, show_layer_names=True)"
   ]
  },
  {
   "cell_type": "markdown",
   "metadata": {},
   "source": [
    "Let's check how well our model trained."
   ]
  },
  {
   "cell_type": "code",
   "execution_count": 22,
   "metadata": {},
   "outputs": [
    {
     "data": {
      "text/plain": [
       "(7, 12)"
      ]
     },
     "execution_count": 22,
     "metadata": {},
     "output_type": "execute_result"
    }
   ],
   "source": [
    "x_val[0].shape"
   ]
  },
  {
   "cell_type": "code",
   "execution_count": 23,
   "metadata": {},
   "outputs": [
    {
     "data": {
      "text/plain": [
       "(1, 7, 12)"
      ]
     },
     "execution_count": 23,
     "metadata": {},
     "output_type": "execute_result"
    }
   ],
   "source": [
    "x_val[np.array([0])].shape"
   ]
  },
  {
   "cell_type": "code",
   "execution_count": 29,
   "metadata": {},
   "outputs": [
    {
     "data": {
      "text/plain": [
       "(1, 4, 12)"
      ]
     },
     "execution_count": 29,
     "metadata": {},
     "output_type": "execute_result"
    }
   ],
   "source": [
    "model.predict(x_val[np.array([0])], verbose=0).shape"
   ]
  },
  {
   "cell_type": "code",
   "execution_count": 30,
   "metadata": {},
   "outputs": [
    {
     "data": {
      "text/plain": [
       "array([[6, 2, 9, 0]])"
      ]
     },
     "execution_count": 30,
     "metadata": {},
     "output_type": "execute_result"
    }
   ],
   "source": [
    "model.predict(x_val[np.array([0])], verbose=0).argmax(axis=-1)"
   ]
  },
  {
   "cell_type": "code",
   "execution_count": 31,
   "metadata": {},
   "outputs": [
    {
     "name": "stdout",
     "output_type": "stream",
     "text": [
      "\n",
      "352/352 [==============================] - 3s 10ms/step - loss: 0.8493 - accuracy: 0.6801 - val_loss: 0.8020 - val_accuracy: 0.6931\n",
      "Finished iteration  1\n",
      "Question 28+823  True 851  Guess 850  Fail\n",
      "Question 32+12   True 44   Guess 44   Good job\n",
      "Question 17+266  True 283  Guess 284  Fail\n",
      "Question 260+79  True 339  Guess 359  Fail\n",
      "Question 603+4   True 607  Guess 607  Good job\n",
      "Question 91+693  True 784  Guess 776  Fail\n",
      "Question 39+521  True 560  Guess 560  Good job\n",
      "Question 422+280 True 702  Guess 729  Fail\n",
      "Question 569+686 True 1255 Guess 1367 Fail\n",
      "Question 3+460   True 463  Guess 464  Fail\n",
      "Question 648+9   True 657  Guess 657  Good job\n",
      "Question 850+416 True 1266 Guess 1265 Fail\n",
      "Question 938+45  True 983  Guess 983  Good job\n",
      "Question 774+40  True 814  Guess 807  Fail\n",
      "Question 4+836   True 840  Guess 830  Fail\n",
      "Question 583+661 True 1244 Guess 1225 Fail\n",
      "Question 68+820  True 888  Guess 899  Fail\n",
      "Question 27+634  True 661  Guess 660  Fail\n",
      "Question 36+64   True 100  Guess 900  Fail\n",
      "Question 358+12  True 370  Guess 379  Fail\n",
      "The model scored  25.0  % in its test.\n",
      "\n",
      "352/352 [==============================] - 4s 11ms/step - loss: 0.7135 - accuracy: 0.7372 - val_loss: 0.6622 - val_accuracy: 0.7561\n",
      "Finished iteration  2\n",
      "Question 78+64   True 142  Guess 142  Good job\n",
      "Question 54+521  True 575  Guess 576  Fail\n",
      "Question 406+787 True 1193 Guess 1144 Fail\n",
      "Question 2+778   True 780  Guess 781  Fail\n",
      "Question 65+7    True 72   Guess 73   Fail\n",
      "Question 927+793 True 1720 Guess 1779 Fail\n",
      "Question 246+2   True 248  Guess 248  Good job\n",
      "Question 77+74   True 151  Guess 151  Good job\n",
      "Question 0+880   True 880  Guess 880  Good job\n",
      "Question 76+38   True 114  Guess 114  Good job\n",
      "Question 83+183  True 266  Guess 266  Good job\n",
      "Question 704+385 True 1089 Guess 1001 Fail\n",
      "Question 671+24  True 695  Guess 695  Good job\n",
      "Question 714+5   True 719  Guess 710  Fail\n",
      "Question 79+184  True 263  Guess 254  Fail\n",
      "Question 634+55  True 689  Guess 690  Fail\n",
      "Question 752+17  True 769  Guess 771  Fail\n",
      "Question 454+937 True 1391 Guess 1300 Fail\n",
      "Question 961+3   True 964  Guess 964  Good job\n",
      "Question 967+658 True 1625 Guess 1634 Fail\n",
      "The model scored  40.0  % in its test.\n",
      "\n",
      "352/352 [==============================] - 4s 10ms/step - loss: 0.5934 - accuracy: 0.7896 - val_loss: 0.5574 - val_accuracy: 0.8000\n",
      "Finished iteration  3\n",
      "Question 93+77   True 170  Guess 161  Fail\n",
      "Question 228+18  True 246  Guess 246  Good job\n",
      "Question 441+46  True 487  Guess 486  Fail\n",
      "Question 18+61   True 79   Guess 88   Fail\n",
      "Question 496+325 True 821  Guess 800  Fail\n",
      "Question 21+94   True 115  Guess 115  Good job\n",
      "Question 612+262 True 874  Guess 754  Fail\n",
      "Question 589+656 True 1245 Guess 1244 Fail\n",
      "Question 19+51   True 70   Guess 70   Good job\n",
      "Question 120+3   True 123  Guess 123  Good job\n",
      "Question 865+95  True 960  Guess 960  Good job\n",
      "Question 314+85  True 399  Guess 399  Good job\n",
      "Question 191+298 True 489  Guess 488  Fail\n",
      "Question 510+60  True 570  Guess 570  Good job\n",
      "Question 639+52  True 691  Guess 681  Fail\n",
      "Question 502+231 True 733  Guess 633  Fail\n",
      "Question 48+306  True 354  Guess 354  Good job\n",
      "Question 290+207 True 497  Guess 408  Fail\n",
      "Question 425+77  True 502  Guess 402  Fail\n",
      "Question 37+76   True 113  Guess 113  Good job\n",
      "The model scored  45.0  % in its test.\n",
      "\n",
      "352/352 [==============================] - 3s 9ms/step - loss: 0.4867 - accuracy: 0.8396 - val_loss: 0.4517 - val_accuracy: 0.8500\n",
      "Finished iteration  4\n",
      "Question 872+318 True 1190 Guess 1190 Good job\n",
      "Question 67+122  True 189  Guess 189  Good job\n",
      "Question 6+831   True 837  Guess 837  Good job\n",
      "Question 521+953 True 1474 Guess 1475 Fail\n",
      "Question 16+401  True 417  Guess 417  Good job\n",
      "Question 854+678 True 1532 Guess 1533 Fail\n",
      "Question 448+74  True 522  Guess 523  Fail\n",
      "Question 66+753  True 819  Guess 829  Fail\n",
      "Question 325+518 True 843  Guess 854  Fail\n",
      "Question 7+337   True 344  Guess 344  Good job\n",
      "Question 453+33  True 486  Guess 486  Good job\n",
      "Question 65+28   True 93   Guess 92   Fail\n",
      "Question 93+924  True 1017 Guess 1017 Good job\n",
      "Question 111+50  True 161  Guess 161  Good job\n",
      "Question 475+266 True 741  Guess 722  Fail\n",
      "Question 44+88   True 132  Guess 132  Good job\n",
      "Question 20+963  True 983  Guess 984  Fail\n",
      "Question 632+92  True 724  Guess 724  Good job\n",
      "Question 37+464  True 501  Guess 501  Good job\n",
      "Question 689+712 True 1401 Guess 1401 Good job\n",
      "The model scored  60.0  % in its test.\n",
      "\n",
      "352/352 [==============================] - 4s 10ms/step - loss: 0.4016 - accuracy: 0.8762 - val_loss: 0.3735 - val_accuracy: 0.8840\n",
      "Finished iteration  5\n",
      "Question 6+321   True 327  Guess 326  Fail\n",
      "Question 952+18  True 970  Guess 970  Good job\n",
      "Question 28+249  True 277  Guess 277  Good job\n",
      "Question 422+253 True 675  Guess 665  Fail\n",
      "Question 83+772  True 855  Guess 855  Good job\n",
      "Question 52+578  True 630  Guess 630  Good job\n",
      "Question 214+93  True 307  Guess 307  Good job\n",
      "Question 341+2   True 343  Guess 343  Good job\n",
      "Question 108+51  True 159  Guess 168  Fail\n",
      "Question 63+889  True 952  Guess 952  Good job\n",
      "Question 398+97  True 495  Guess 495  Good job\n",
      "Question 544+69  True 613  Guess 613  Good job\n",
      "Question 606+945 True 1551 Guess 1551 Good job\n",
      "Question 598+792 True 1390 Guess 1391 Fail\n",
      "Question 50+362  True 412  Guess 412  Good job\n",
      "Question 45+166  True 211  Guess 211  Good job\n",
      "Question 56+97   True 153  Guess 153  Good job\n",
      "Question 965+708 True 1673 Guess 1673 Good job\n",
      "Question 903+52  True 955  Guess 955  Good job\n",
      "Question 41+506  True 547  Guess 547  Good job\n",
      "The model scored  80.0  % in its test.\n",
      "\n",
      "352/352 [==============================] - 4s 10ms/step - loss: 0.3270 - accuracy: 0.9058 - val_loss: 0.3343 - val_accuracy: 0.8916\n",
      "Finished iteration  6\n",
      "Question 0+293   True 293  Guess 293  Good job\n",
      "Question 795+20  True 815  Guess 815  Good job\n",
      "Question 66+17   True 83   Guess 83   Good job\n",
      "Question 713+340 True 1053 Guess 1033 Fail\n",
      "Question 14+762  True 776  Guess 775  Fail\n",
      "Question 48+927  True 975  Guess 975  Good job\n",
      "Question 44+49   True 93   Guess 93   Good job\n",
      "Question 985+303 True 1288 Guess 1298 Fail\n",
      "Question 933+63  True 996  Guess 996  Good job\n",
      "Question 2+530   True 532  Guess 532  Good job\n",
      "Question 95+28   True 123  Guess 123  Good job\n",
      "Question 114+4   True 118  Guess 118  Good job\n",
      "Question 360+175 True 535  Guess 505  Fail\n",
      "Question 39+111  True 150  Guess 150  Good job\n",
      "Question 384+12  True 396  Guess 395  Fail\n",
      "Question 418+824 True 1242 Guess 1232 Fail\n",
      "Question 3+655   True 658  Guess 658  Good job\n",
      "Question 854+0   True 854  Guess 854  Good job\n",
      "Question 22+743  True 765  Guess 765  Good job\n",
      "Question 54+9    True 63   Guess 63   Good job\n",
      "The model scored  70.0  % in its test.\n",
      "\n",
      "352/352 [==============================] - 4s 11ms/step - loss: 0.2694 - accuracy: 0.9259 - val_loss: 0.2591 - val_accuracy: 0.9269\n",
      "Finished iteration  7\n",
      "Question 7+159   True 166  Guess 166  Good job\n",
      "Question 21+548  True 569  Guess 579  Fail\n",
      "Question 872+318 True 1190 Guess 1190 Good job\n",
      "Question 940+34  True 974  Guess 984  Fail\n",
      "Question 932+332 True 1264 Guess 1254 Fail\n",
      "Question 12+202  True 214  Guess 214  Good job\n",
      "Question 67+82   True 149  Guess 149  Good job\n",
      "Question 337+681 True 1018 Guess 1008 Fail\n",
      "Question 42+755  True 797  Guess 797  Good job\n",
      "Question 851+36  True 887  Guess 887  Good job\n",
      "Question 531+17  True 548  Guess 548  Good job\n",
      "Question 645+4   True 649  Guess 659  Fail\n",
      "Question 49+222  True 271  Guess 271  Good job\n",
      "Question 191+298 True 489  Guess 489  Good job\n",
      "Question 51+118  True 169  Guess 179  Fail\n",
      "Question 90+287  True 377  Guess 377  Good job\n",
      "Question 796+637 True 1433 Guess 1432 Fail\n",
      "Question 13+120  True 133  Guess 133  Good job\n",
      "Question 847+5   True 852  Guess 852  Good job\n",
      "Question 820+84  True 904  Guess 904  Good job\n",
      "The model scored  65.0  % in its test.\n",
      "\n",
      "352/352 [==============================] - 4s 11ms/step - loss: 0.2269 - accuracy: 0.9381 - val_loss: 0.2146 - val_accuracy: 0.9394\n",
      "Finished iteration  8\n",
      "Question 46+931  True 977  Guess 977  Good job\n",
      "Question 194+53  True 247  Guess 247  Good job\n",
      "Question 983+0   True 983  Guess 983  Good job\n",
      "Question 453+95  True 548  Guess 548  Good job\n",
      "Question 322+620 True 942  Guess 942  Good job\n",
      "Question 13+92   True 105  Guess 105  Good job\n",
      "Question 6+802   True 808  Guess 808  Good job\n",
      "Question 811+278 True 1089 Guess 1099 Fail\n",
      "Question 932+332 True 1264 Guess 1274 Fail\n",
      "Question 839+611 True 1450 Guess 1441 Fail\n",
      "Question 78+31   True 109  Guess 109  Good job\n",
      "Question 134+89  True 223  Guess 223  Good job\n",
      "Question 9+543   True 552  Guess 552  Good job\n",
      "Question 491+917 True 1408 Guess 1408 Good job\n",
      "Question 16+20   True 36   Guess 36   Good job\n",
      "Question 6+23    True 29   Guess 29   Good job\n",
      "Question 412+56  True 468  Guess 468  Good job\n",
      "Question 751+572 True 1323 Guess 1323 Good job\n",
      "Question 98+47   True 145  Guess 145  Good job\n",
      "Question 66+865  True 931  Guess 931  Good job\n",
      "The model scored  85.0  % in its test.\n",
      "\n",
      "352/352 [==============================] - 4s 10ms/step - loss: 0.1882 - accuracy: 0.9509 - val_loss: 0.1976 - val_accuracy: 0.9402\n",
      "Finished iteration  9\n",
      "Question 337+681 True 1018 Guess 1008 Fail\n",
      "Question 711+94  True 805  Guess 805  Good job\n",
      "Question 945+9   True 954  Guess 954  Good job\n",
      "Question 304+93  True 397  Guess 497  Fail\n",
      "Question 91+22   True 113  Guess 113  Good job\n",
      "Question 601+956 True 1557 Guess 1567 Fail\n",
      "Question 0+656   True 656  Guess 656  Good job\n",
      "Question 905+760 True 1665 Guess 1665 Good job\n",
      "Question 433+95  True 528  Guess 528  Good job\n",
      "Question 99+238  True 337  Guess 337  Good job\n",
      "Question 153+325 True 478  Guess 578  Fail\n",
      "Question 512+460 True 972  Guess 972  Good job\n",
      "Question 24+514  True 538  Guess 538  Good job\n",
      "Question 981+987 True 1968 Guess 1978 Fail\n",
      "Question 542+904 True 1446 Guess 1456 Fail\n",
      "Question 60+995  True 1055 Guess 1055 Good job\n",
      "Question 52+400  True 452  Guess 452  Good job\n",
      "Question 551+69  True 620  Guess 620  Good job\n",
      "Question 549+314 True 863  Guess 863  Good job\n",
      "Question 67+4    True 71   Guess 71   Good job\n",
      "The model scored  70.0  % in its test.\n"
     ]
    }
   ],
   "source": [
    "for iteration in range(1, 10):\n",
    "    print()  \n",
    "    model.fit(x_train, y_train,\n",
    "              batch_size=BATCH_SIZE,\n",
    "              validation_data=(x_val, y_val))\n",
    "    # Select 10 samples from the validation set at random so\n",
    "    # we can visualize errors.\n",
    "    print('Finished iteration ', iteration)\n",
    "    numcorrect = 0\n",
    "    numtotal = 20\n",
    "    \n",
    "    for i in range(numtotal):\n",
    "        ind = np.random.randint(0, len(x_val))\n",
    "        rowx, rowy = x_val[np.array([ind])], y_val[np.array([ind])]\n",
    "        preds = model.predict(rowx, verbose=0)\n",
    "        q = ctable.decode(rowx[0])\n",
    "        correct = ctable.decode(rowy[0])\n",
    "        guess = ctable.decode(preds[0], calc_argmax=True)\n",
    "        print('Question', q, end=' ')\n",
    "        print('True', correct, end=' ')\n",
    "        print('Guess', guess, end=' ')\n",
    "        if guess == correct :\n",
    "          print('Good job')\n",
    "          numcorrect += 1\n",
    "        else:\n",
    "          print('Fail')\n",
    "    print('The model scored ', numcorrect*100/numtotal,' % in its test.')"
   ]
  },
  {
   "cell_type": "markdown",
   "metadata": {},
   "source": [
    "#### EXERCISE\n",
    "\n",
    " * Try changing the hyperparams, use other RNNs, more layers, check if increasing the number of epochs is useful.\n",
    "\n",
    " * Try reversing the data from validation set and check if commutative property of addition is learned by the model.\n",
    " * Try printing the hidden layer with two inputs that are commutative and check if the hidden representations it learned are same or similar. Do we expect it to be true? If so, why? If not why? You can access the layer using an index with model.layers and layer.output will give the output of that layer.\n",
    "\n",
    "* Try doing addition in the RNN model the same way we do by hand. Reverse the order of digits and at each time step, input two digits get an output use the hidden layer and input next two digits and so on.(units in the first time step, tens in the second time step etc.)"
   ]
  }
 ],
 "metadata": {
  "kernelspec": {
   "display_name": "Python 3",
   "language": "python",
   "name": "python3"
  },
  "language_info": {
   "codemirror_mode": {
    "name": "ipython",
    "version": 3
   },
   "file_extension": ".py",
   "mimetype": "text/x-python",
   "name": "python",
   "nbconvert_exporter": "python",
   "pygments_lexer": "ipython3",
   "version": "3.11.5"
  }
 },
 "nbformat": 4,
 "nbformat_minor": 4
}
